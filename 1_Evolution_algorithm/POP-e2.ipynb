{
 "cells": [
  {
   "cell_type": "markdown",
   "metadata": {},
   "source": [
    "Importy potrzebnych biblitek:"
   ]
  },
  {
   "cell_type": "code",
   "execution_count": 40,
   "metadata": {},
   "outputs": [],
   "source": [
    "import pandas as pd\n",
    "import re\n",
    "import numpy as np\n",
    "import random\n",
    "import copy\n",
    "from numba import njit"
   ]
  },
  {
   "cell_type": "markdown",
   "metadata": {},
   "source": [
    "Stałe oznaczające koszt transponderów oraz ich maksymalną ilość:"
   ]
  },
  {
   "cell_type": "code",
   "execution_count": 41,
   "metadata": {},
   "outputs": [],
   "source": [
    "TRANSPONDERS = {\n",
    "    10: 1,\n",
    "    40: 3,\n",
    "    100: 5\n",
    "}\n",
    "MAX_TRANSPONDERS = 96"
   ]
  },
  {
   "cell_type": "markdown",
   "metadata": {},
   "source": [
    "Odczytywanie miast z ich położeniem:"
   ]
  },
  {
   "cell_type": "code",
   "execution_count": 56,
   "metadata": {},
   "outputs": [],
   "source": [
    "with open('networks/NODES.txt', 'r') as file:\n",
    "    data = file.read()\n",
    "\n",
    "\n",
    "pattern = r'(\\w+) \\(\\s*([\\d.]+)\\s*([\\d.]+)\\s*\\)'\n",
    "\n",
    "matches = re.findall(pattern, data)\n",
    "\n",
    "nodes_df = pd.DataFrame(matches, columns=['City', 'Longitude', 'Latitude'])\n",
    "\n",
    "nodes_df['Longitude'] = nodes_df['Longitude'].astype(float)\n",
    "nodes_df['Latitude'] = nodes_df['Latitude'].astype(float)\n",
    "\n",
    "#print(nodes_df)"
   ]
  },
  {
   "cell_type": "markdown",
   "metadata": {},
   "source": [
    "Odczytywanie połączeń między miastami:"
   ]
  },
  {
   "cell_type": "code",
   "execution_count": 43,
   "metadata": {},
   "outputs": [],
   "source": [
    "with open('networks/LINKS.txt', 'r') as file:\n",
    "    data = file.read()\n",
    "\n",
    "pattern = r'(\\w+) \\(\\s*(\\w+)\\s*(\\w+)\\s*\\)'\n",
    "\n",
    "matches = re.findall(pattern, data)\n",
    "\n",
    "links_df = pd.DataFrame(matches, columns=['ID', 'City_1', 'City_2'])\n",
    "\n",
    "#print(links_dict)"
   ]
  },
  {
   "cell_type": "markdown",
   "metadata": {},
   "source": [
    "Odczytywanie z plików zapotrzebowań:"
   ]
  },
  {
   "cell_type": "code",
   "execution_count": 44,
   "metadata": {},
   "outputs": [],
   "source": [
    "with open('networks/DEMANDS.txt', 'r') as file:\n",
    "    data = file.read()\n",
    "\n",
    "\n",
    "pattern = r'(\\w+) \\(\\s*(\\w+)\\s*(\\w+)\\s*\\) (\\d+) (\\d+\\.\\d+) (\\w+)'\n",
    "\n",
    "matches = re.findall(pattern, data)\n",
    "\n",
    "demands_df = pd.DataFrame(matches, columns=['ID', 'City_1', 'City_2', 'routing_unit', 'demand_value', 'max_route'])\n",
    "demands_df = demands_df.drop(['routing_unit', 'max_route'], axis = 1)\n",
    "\n",
    "demands_dict = dict(zip(demands_df['ID'], demands_df['demand_value'].astype(float)))"
   ]
  },
  {
   "cell_type": "markdown",
   "metadata": {},
   "source": [
    "Odczytywanie z pliku ścieżek pomiędzy miastami:"
   ]
  },
  {
   "cell_type": "code",
   "execution_count": 45,
   "metadata": {},
   "outputs": [],
   "source": [
    "def parse_file(file_content):\n",
    "    dict_data = {}\n",
    "    current_demand = None\n",
    "    current_p = None\n",
    "\n",
    "    demand_pattern = re.compile(r'Demand_(\\d+_\\d+)')\n",
    "    p_pattern = re.compile(r'P_(\\d+)\\s*\\(\\s*(.*?)\\s*\\)')\n",
    "\n",
    "    lines = file_content.split('\\n')\n",
    "    for line in lines:\n",
    "        demand_match = demand_pattern.search(line)\n",
    "        p_match = p_pattern.search(line)\n",
    "\n",
    "        if demand_match:\n",
    "            current_demand = 'Demand_' + demand_match.group(1)\n",
    "            dict_data[current_demand] = {}\n",
    "        elif p_match and current_demand:\n",
    "            current_p = 'P_' + p_match.group(1)\n",
    "            links = re.findall(r'Link_\\d+_\\d+', p_match.group(2))\n",
    "            dict_data[current_demand][current_p] = links\n",
    "\n",
    "    return dict_data\n",
    "\n",
    "with open('networks/PATHS.txt', 'r') as file:\n",
    "    file_content = file.read()\n",
    "\n",
    "result_dict = parse_file(file_content)"
   ]
  },
  {
   "cell_type": "markdown",
   "metadata": {},
   "source": [
    "Generowanie populacji początkowej:"
   ]
  },
  {
   "cell_type": "code",
   "execution_count": 46,
   "metadata": {},
   "outputs": [],
   "source": [
    "def generate_genotype(paths_num = 7, min = 0, max = 3):\n",
    "    demnand_num = demands_df.shape[0]\n",
    "    trans_num = len(TRANSPONDERS)\n",
    "    genotype = np.random.randint(min, max, (demnand_num, paths_num, trans_num))\n",
    "    return genotype\n",
    "\n",
    "def generate_population(n):\n",
    "    population = []\n",
    "    for _ in range(n):\n",
    "        population.append(generate_genotype())\n",
    "    return population\n"
   ]
  },
  {
   "cell_type": "markdown",
   "metadata": {},
   "source": [
    "Funkcja służąca do oceny osobnika:"
   ]
  },
  {
   "cell_type": "code",
   "execution_count": 47,
   "metadata": {},
   "outputs": [],
   "source": [
    "def genotype_cost(individual, pen_const = 2):\n",
    "    links_dict = dict(zip(links_df['ID'], np.zeros(len(links_df), dtype=int)))\n",
    "    temp_demands_dict = dict(zip(demands_df['ID'], np.zeros(len(demands_df), dtype=int)))\n",
    "    transponders_cost = 0\n",
    "    demand_num = 0\n",
    "    for demand_key, demand_value in result_dict.items():\n",
    "        path_num = 0\n",
    "        demand_cost = 0\n",
    "        for path_values in demand_value.values():\n",
    "            demand_cost += individual[demand_num][path_num][0]*TRANSPONDERS[10] + \\\n",
    "                           individual[demand_num][path_num][1]*TRANSPONDERS[40] + \\\n",
    "                           individual[demand_num][path_num][2]*TRANSPONDERS[100]\n",
    "            temp_demands_dict[demand_key] += individual[demand_num][path_num][0]*10 + \\\n",
    "                                             individual[demand_num][path_num][1]*40 + \\\n",
    "                                             individual[demand_num][path_num][2]*100\n",
    "            for link in path_values:\n",
    "                links_dict[link] += individual[demand_num][path_num][0] + \\\n",
    "                                    individual[demand_num][path_num][1] + \\\n",
    "                                    individual[demand_num][path_num][2]\n",
    "                \n",
    "            path_num += 1\n",
    "        transponders_cost += demand_cost\n",
    "        demand_num += 1\n",
    "\n",
    "    trans_exceeding_penalty = 0\n",
    "    for key, value in links_dict.items():\n",
    "        if value > MAX_TRANSPONDERS:\n",
    "            trans_exceeding_penalty += (value-MAX_TRANSPONDERS) ** pen_const + 200\n",
    "\n",
    "    demand_not_complited = 0\n",
    "    for key, value in temp_demands_dict.items():\n",
    "        if value < demands_dict[key]:\n",
    "            demand_not_complited += (demands_dict[key]-value) ** pen_const + 200\n",
    "\n",
    "    return transponders_cost + trans_exceeding_penalty + demand_not_complited"
   ]
  },
  {
   "cell_type": "markdown",
   "metadata": {},
   "source": [
    "Selekcja ruletkowa:"
   ]
  },
  {
   "cell_type": "code",
   "execution_count": 48,
   "metadata": {},
   "outputs": [],
   "source": [
    "def gen_roulette(popu, out_pop = 1):\n",
    "    out_pop *= len(popu)\n",
    "    new_population = []\n",
    "    sum = 0.0\n",
    "    for individual in popu:\n",
    "        sum += 1/individual[1]\n",
    "    for _ in range(out_pop):\n",
    "        value = random.uniform(0.0, sum)\n",
    "        new_sum = 0.0\n",
    "        for i in range(len(popu)):\n",
    "            new_sum += 1/popu[i][1]\n",
    "            if new_sum >= value:\n",
    "                new_population.append(copy.deepcopy(popu[i]))\n",
    "                break\n",
    "    return new_population"
   ]
  },
  {
   "cell_type": "markdown",
   "metadata": {},
   "source": [
    "Selekcja turniejowa:"
   ]
  },
  {
   "cell_type": "code",
   "execution_count": 49,
   "metadata": {},
   "outputs": [],
   "source": [
    "def gen_tournament(popu, out_pop = 1, tournament_size=2):\n",
    "    out_pop *= len(popu)\n",
    "    new_population = []\n",
    "    for _ in range(out_pop):\n",
    "        selected_candidates = random.sample(range(len(popu)), tournament_size)\n",
    "        winner = min(selected_candidates, key=lambda x: popu[x][1])\n",
    "        new_population.append(copy.deepcopy(popu[winner]))\n",
    "    return new_population"
   ]
  },
  {
   "cell_type": "markdown",
   "metadata": {},
   "source": [
    "Algorytm krzyżowania jendopunktowego:"
   ]
  },
  {
   "cell_type": "code",
   "execution_count": 50,
   "metadata": {},
   "outputs": [],
   "source": [
    "def single_point_crossover(parent1, parent2):\n",
    "    crossover_point = np.random.randint(1, min(len(parent1), len(parent2)))\n",
    "\n",
    "    child1 = np.concatenate((parent1[:crossover_point], parent2[crossover_point:]), axis = 0)\n",
    "    child2 = np.concatenate((parent2[:crossover_point], parent1[crossover_point:]), axis = 0)\n",
    "    return child1, child2"
   ]
  },
  {
   "cell_type": "markdown",
   "metadata": {},
   "source": [
    "Mutacja gaussowska:"
   ]
  },
  {
   "cell_type": "code",
   "execution_count": 51,
   "metadata": {},
   "outputs": [],
   "source": [
    "@njit\n",
    "def gauss_mutation(individual, mutation_power, mutation_percent):\n",
    "    for i in range(len(individual)):\n",
    "        if random.uniform(0, 100) < mutation_percent:\n",
    "            individual[i] = abs(int(random.gauss(individual[i], mutation_power)))\n",
    "            individual[i] = individual[i] % 3\n",
    "    return individual"
   ]
  },
  {
   "cell_type": "markdown",
   "metadata": {},
   "source": [
    "Mutacja binarna:"
   ]
  },
  {
   "cell_type": "code",
   "execution_count": 52,
   "metadata": {},
   "outputs": [],
   "source": [
    "@njit\n",
    "def binary_mutation(individual, mutation_power, mutation_percent):\n",
    "    for i in range(len(individual)):\n",
    "        if random.uniform(0, 100) < mutation_percent:\n",
    "            individual[i] = np.random.randint(0,3)\n",
    "    return individual"
   ]
  },
  {
   "cell_type": "markdown",
   "metadata": {},
   "source": [
    "Funkcje do generowania podsumowania w pliku .txt:"
   ]
  },
  {
   "cell_type": "code",
   "execution_count": 53,
   "metadata": {},
   "outputs": [],
   "source": [
    "def genotype_raport(individual):\n",
    "    temp_demands_dict = dict(zip(demands_df['ID'], np.zeros(len(demands_df), dtype=int)))\n",
    "    demand_num = 0\n",
    "    for demand_key, demand_value in result_dict.items():\n",
    "        path_num = 0\n",
    "        demand_cost = 0\n",
    "        for path_values in demand_value.values():\n",
    "            temp_demands_dict[demand_key] += individual[demand_num][path_num][0]*10 + individual[demand_num][path_num][1]*40 + individual[demand_num][path_num][2]*100\n",
    "            path_num += 1\n",
    "        demand_num += 1\n",
    "\n",
    "    for key, value in temp_demands_dict.items():\n",
    "        temp_demands_dict[key] = [value, demands_dict[key]]\n",
    "\n",
    "    return temp_demands_dict\n",
    "\n",
    "def genotype_to_file(individual, file_name = 'model.txt'):\n",
    "    with open(file_name, 'w') as file:\n",
    "        file.write(f'\\n\\n\\n\\n\\nGenotype value is {individual[1]}\\n')\n",
    "        demand_num = 0\n",
    "        raport_dict = genotype_raport(individual[0])\n",
    "        for key, value in raport_dict.items():\n",
    "            file.write(f'{key}    {value[0]}   {value[1]}     diff: {value[0]-value[1]}\\n')\n",
    "        for demand_key, demand_value in result_dict.items():\n",
    "            path_num = 0\n",
    "            file.write(f'\\n\\n\\n\\n\\n{demand_key}:\\n')\n",
    "            for path_key, path_values in demand_value.items():\n",
    "                file.write(f'{path_key}: 10 -> {individual[0][demand_num][path_num][0]}    40 -> {individual[0][demand_num][path_num][1]}   100 -> {individual[0][demand_num][path_num][2]}\\n')\n",
    "                path_num += 1\n",
    "            demand_num += 1"
   ]
  },
  {
   "cell_type": "markdown",
   "metadata": {},
   "source": [
    "Główna pętla algorytmu ewolucyjnego:"
   ]
  },
  {
   "cell_type": "code",
   "execution_count": 55,
   "metadata": {},
   "outputs": [
    {
     "name": "stdout",
     "output_type": "stream",
     "text": [
      "Best individual so far: 1238197\n",
      "0\n",
      "Best individual so far: 4301.0\n",
      "50\n",
      "Mutation percent was decreased: 9\n",
      "Best individual so far: 1123.0\n",
      "100\n",
      "Mutation percent was decreased: 8\n",
      "Best individual so far: 873\n",
      "150\n",
      "Mutation percent was decreased: 7\n",
      "Best individual so far: 825\n",
      "200\n",
      "Mutation percent was decreased: 6\n",
      "Best individual so far: 781\n",
      "250\n",
      "Mutation percent was decreased: 5\n",
      "Best individual so far: 739\n",
      "300\n",
      "Mutation percent was decreased: 4\n",
      "Best individual so far: 706\n",
      "350\n",
      "Best individual so far: 691\n",
      "400\n",
      "Best individual so far: 674\n",
      "450\n",
      "Best individual so far: 669\n",
      "500\n",
      "Best individual so far: 658\n",
      "550\n",
      "Best individual so far: 657\n",
      "600\n",
      "Best individual so far: 649\n",
      "650\n",
      "Best individual so far: 644\n",
      "700\n",
      "Best individual so far: 643\n",
      "750\n",
      "Best individual so far: 638\n",
      "800\n",
      "Best individual so far: 634\n",
      "850\n",
      "Best individual so far: 634\n",
      "900\n",
      "Best individual so far: 633\n",
      "950\n"
     ]
    }
   ],
   "source": [
    "def evolution(population_size = 500, crossover_percent=10, selection=gen_tournament, crossover=single_point_crossover,\n",
    "              mutation_power = 0.5, mutation_percent=10, mutation=gauss_mutation, iterations=1000, elite_size_percent = 10):\n",
    "    population = generate_population(population_size)\n",
    "    values = []\n",
    "    for individual in population:\n",
    "        values.append(genotype_cost(individual))\n",
    "    rated_population = [list(pair) for pair in zip(population, values)]\n",
    "\n",
    "    shape = population[0].shape\n",
    "    elite = population_size * elite_size_percent // 100\n",
    "    non_elite = population_size - elite\n",
    "\n",
    "    for iteration in range(iterations):\n",
    "        #selekcja\n",
    "        new_population = selection(rated_population)\n",
    "\n",
    "        for i in range(len(new_population)):\n",
    "            new_population[i][0] = np.ravel(new_population[i][0])\n",
    "\n",
    "        #krzyżowanie\n",
    "        crossovers = population_size * crossover_percent // 100\n",
    "        for _ in range(crossovers):\n",
    "            i1 = random.randint(0, population_size-1)\n",
    "            i2 = random.randint(0, population_size-1)\n",
    "            new_population[i1][0], new_population[i2][0] = crossover(new_population[i1][0], new_population[i2][0])\n",
    "\n",
    "        #mutacja\n",
    "        for i in range(len(new_population)):\n",
    "            new_population[i][0] = mutation(new_population[i][0], mutation_power, mutation_percent)\n",
    "        \n",
    "        for i in range(len(new_population)):\n",
    "            new_population[i][0] = np.reshape(new_population[i][0], shape)\n",
    "            new_population[i][1] = genotype_cost(new_population[i][0])\n",
    "        \n",
    "\n",
    "        rated_population = sorted(rated_population, key=lambda x: x[1])[:elite] + sorted(new_population, key=lambda x: x[1])[:non_elite]\n",
    "\n",
    "        best_individual = min(rated_population, key=lambda x: x[1])\n",
    "        \n",
    "        if iteration % 50 == 0:\n",
    "            print(f\"Best individual so far: {best_individual[1]}\")\n",
    "            print(iteration)\n",
    "            genotype_to_file(best_individual)\n",
    "        if 0 < iteration < 301 and iteration % 50 == 0:\n",
    "            mutation_percent -= 1\n",
    "            print(f'Mutation percent was decreased: {mutation_percent}')\n",
    "evolution()\n"
   ]
  }
 ],
 "metadata": {
  "kernelspec": {
   "display_name": "Python 3",
   "language": "python",
   "name": "python3"
  },
  "language_info": {
   "codemirror_mode": {
    "name": "ipython",
    "version": 3
   },
   "file_extension": ".py",
   "mimetype": "text/x-python",
   "name": "python",
   "nbconvert_exporter": "python",
   "pygments_lexer": "ipython3",
   "version": "3.10.12"
  }
 },
 "nbformat": 4,
 "nbformat_minor": 2
}
